{
  "cells": [
    {
      "cell_type": "markdown",
      "metadata": {
        "id": "view-in-github",
        "colab_type": "text"
      },
      "source": [
        "<a href=\"https://colab.research.google.com/github/ChristianJoudon/ChristianJoudon.github.io/blob/main/Welcome_To_Colab.ipynb\" target=\"_parent\"><img src=\"https://colab.research.google.com/assets/colab-badge.svg\" alt=\"Open In Colab\"/></a>"
      ]
    },
    {
      "cell_type": "code",
      "execution_count": 1,
      "metadata": {
        "id": "zwFnJsE6vjf8",
        "outputId": "450c840e-1339-4091-a871-e406722d37da",
        "colab": {
          "base_uri": "https://localhost:8080/",
          "height": 74
        }
      },
      "outputs": [
        {
          "output_type": "display_data",
          "data": {
            "text/plain": [
              "<IPython.core.display.HTML object>"
            ],
            "text/html": [
              "\n",
              "     <input type=\"file\" id=\"files-49bb4d83-d2b7-414d-b6ba-8b2123228830\" name=\"files[]\" multiple disabled\n",
              "        style=\"border:none\" />\n",
              "     <output id=\"result-49bb4d83-d2b7-414d-b6ba-8b2123228830\">\n",
              "      Upload widget is only available when the cell has been executed in the\n",
              "      current browser session. Please rerun this cell to enable.\n",
              "      </output>\n",
              "      <script>// Copyright 2017 Google LLC\n",
              "//\n",
              "// Licensed under the Apache License, Version 2.0 (the \"License\");\n",
              "// you may not use this file except in compliance with the License.\n",
              "// You may obtain a copy of the License at\n",
              "//\n",
              "//      http://www.apache.org/licenses/LICENSE-2.0\n",
              "//\n",
              "// Unless required by applicable law or agreed to in writing, software\n",
              "// distributed under the License is distributed on an \"AS IS\" BASIS,\n",
              "// WITHOUT WARRANTIES OR CONDITIONS OF ANY KIND, either express or implied.\n",
              "// See the License for the specific language governing permissions and\n",
              "// limitations under the License.\n",
              "\n",
              "/**\n",
              " * @fileoverview Helpers for google.colab Python module.\n",
              " */\n",
              "(function(scope) {\n",
              "function span(text, styleAttributes = {}) {\n",
              "  const element = document.createElement('span');\n",
              "  element.textContent = text;\n",
              "  for (const key of Object.keys(styleAttributes)) {\n",
              "    element.style[key] = styleAttributes[key];\n",
              "  }\n",
              "  return element;\n",
              "}\n",
              "\n",
              "// Max number of bytes which will be uploaded at a time.\n",
              "const MAX_PAYLOAD_SIZE = 100 * 1024;\n",
              "\n",
              "function _uploadFiles(inputId, outputId) {\n",
              "  const steps = uploadFilesStep(inputId, outputId);\n",
              "  const outputElement = document.getElementById(outputId);\n",
              "  // Cache steps on the outputElement to make it available for the next call\n",
              "  // to uploadFilesContinue from Python.\n",
              "  outputElement.steps = steps;\n",
              "\n",
              "  return _uploadFilesContinue(outputId);\n",
              "}\n",
              "\n",
              "// This is roughly an async generator (not supported in the browser yet),\n",
              "// where there are multiple asynchronous steps and the Python side is going\n",
              "// to poll for completion of each step.\n",
              "// This uses a Promise to block the python side on completion of each step,\n",
              "// then passes the result of the previous step as the input to the next step.\n",
              "function _uploadFilesContinue(outputId) {\n",
              "  const outputElement = document.getElementById(outputId);\n",
              "  const steps = outputElement.steps;\n",
              "\n",
              "  const next = steps.next(outputElement.lastPromiseValue);\n",
              "  return Promise.resolve(next.value.promise).then((value) => {\n",
              "    // Cache the last promise value to make it available to the next\n",
              "    // step of the generator.\n",
              "    outputElement.lastPromiseValue = value;\n",
              "    return next.value.response;\n",
              "  });\n",
              "}\n",
              "\n",
              "/**\n",
              " * Generator function which is called between each async step of the upload\n",
              " * process.\n",
              " * @param {string} inputId Element ID of the input file picker element.\n",
              " * @param {string} outputId Element ID of the output display.\n",
              " * @return {!Iterable<!Object>} Iterable of next steps.\n",
              " */\n",
              "function* uploadFilesStep(inputId, outputId) {\n",
              "  const inputElement = document.getElementById(inputId);\n",
              "  inputElement.disabled = false;\n",
              "\n",
              "  const outputElement = document.getElementById(outputId);\n",
              "  outputElement.innerHTML = '';\n",
              "\n",
              "  const pickedPromise = new Promise((resolve) => {\n",
              "    inputElement.addEventListener('change', (e) => {\n",
              "      resolve(e.target.files);\n",
              "    });\n",
              "  });\n",
              "\n",
              "  const cancel = document.createElement('button');\n",
              "  inputElement.parentElement.appendChild(cancel);\n",
              "  cancel.textContent = 'Cancel upload';\n",
              "  const cancelPromise = new Promise((resolve) => {\n",
              "    cancel.onclick = () => {\n",
              "      resolve(null);\n",
              "    };\n",
              "  });\n",
              "\n",
              "  // Wait for the user to pick the files.\n",
              "  const files = yield {\n",
              "    promise: Promise.race([pickedPromise, cancelPromise]),\n",
              "    response: {\n",
              "      action: 'starting',\n",
              "    }\n",
              "  };\n",
              "\n",
              "  cancel.remove();\n",
              "\n",
              "  // Disable the input element since further picks are not allowed.\n",
              "  inputElement.disabled = true;\n",
              "\n",
              "  if (!files) {\n",
              "    return {\n",
              "      response: {\n",
              "        action: 'complete',\n",
              "      }\n",
              "    };\n",
              "  }\n",
              "\n",
              "  for (const file of files) {\n",
              "    const li = document.createElement('li');\n",
              "    li.append(span(file.name, {fontWeight: 'bold'}));\n",
              "    li.append(span(\n",
              "        `(${file.type || 'n/a'}) - ${file.size} bytes, ` +\n",
              "        `last modified: ${\n",
              "            file.lastModifiedDate ? file.lastModifiedDate.toLocaleDateString() :\n",
              "                                    'n/a'} - `));\n",
              "    const percent = span('0% done');\n",
              "    li.appendChild(percent);\n",
              "\n",
              "    outputElement.appendChild(li);\n",
              "\n",
              "    const fileDataPromise = new Promise((resolve) => {\n",
              "      const reader = new FileReader();\n",
              "      reader.onload = (e) => {\n",
              "        resolve(e.target.result);\n",
              "      };\n",
              "      reader.readAsArrayBuffer(file);\n",
              "    });\n",
              "    // Wait for the data to be ready.\n",
              "    let fileData = yield {\n",
              "      promise: fileDataPromise,\n",
              "      response: {\n",
              "        action: 'continue',\n",
              "      }\n",
              "    };\n",
              "\n",
              "    // Use a chunked sending to avoid message size limits. See b/62115660.\n",
              "    let position = 0;\n",
              "    do {\n",
              "      const length = Math.min(fileData.byteLength - position, MAX_PAYLOAD_SIZE);\n",
              "      const chunk = new Uint8Array(fileData, position, length);\n",
              "      position += length;\n",
              "\n",
              "      const base64 = btoa(String.fromCharCode.apply(null, chunk));\n",
              "      yield {\n",
              "        response: {\n",
              "          action: 'append',\n",
              "          file: file.name,\n",
              "          data: base64,\n",
              "        },\n",
              "      };\n",
              "\n",
              "      let percentDone = fileData.byteLength === 0 ?\n",
              "          100 :\n",
              "          Math.round((position / fileData.byteLength) * 100);\n",
              "      percent.textContent = `${percentDone}% done`;\n",
              "\n",
              "    } while (position < fileData.byteLength);\n",
              "  }\n",
              "\n",
              "  // All done.\n",
              "  yield {\n",
              "    response: {\n",
              "      action: 'complete',\n",
              "    }\n",
              "  };\n",
              "}\n",
              "\n",
              "scope.google = scope.google || {};\n",
              "scope.google.colab = scope.google.colab || {};\n",
              "scope.google.colab._files = {\n",
              "  _uploadFiles,\n",
              "  _uploadFilesContinue,\n",
              "};\n",
              "})(self);\n",
              "</script> "
            ]
          },
          "metadata": {}
        },
        {
          "output_type": "stream",
          "name": "stdout",
          "text": [
            "Saving tweet_info.zip to tweet_info.zip\n"
          ]
        }
      ],
      "source": [
        "from google.colab import files\n",
        "uploaded = files.upload()"
      ]
    },
    {
      "cell_type": "code",
      "source": [
        "import csv\n",
        "from io import StringIO\n",
        "\n",
        "def split_single_csv_line(line):\n",
        "    \"\"\"\n",
        "    Splits a single CSV line into its respective fields, accounting for commas within fields.\n",
        "\n",
        "    Args:\n",
        "        line (str): A single CSV line.\n",
        "\n",
        "    Returns:\n",
        "        list: List of fields from the CSV line.\n",
        "    \"\"\"\n",
        "    reader = csv.reader(StringIO(line))\n",
        "    return next(reader)\n",
        "\n",
        "# Test case\n",
        "my_line = '\"0\",\"1467810369\",\"Mon Apr 06 22:19:45 PDT 2009\",\"NO_QUERY\",\"_TheSpecialOne_\",\"@switchfoot http://twitpic.com/2y1zl - Awww, that\\'s a bummer.  You shoulda got David Carr of Third Day to do it. ;D\"'\n",
        "\n",
        "# Split the line and print the result\n",
        "result = split_single_csv_line(my_line)\n",
        "print(\"Split result:\", result)\n",
        "\n",
        "# Ensure the function works as expected with asserts\n",
        "assert len(result) == 6\n",
        "assert result[1] == \"1467810369\"\n",
        "\n",
        "print(\"Test passed for Question 2.1!\")\n"
      ],
      "metadata": {
        "id": "CMInL3Aqzgjs",
        "outputId": "456fffbb-3df7-42ea-f893-ec1a7596aef8",
        "colab": {
          "base_uri": "https://localhost:8080/"
        }
      },
      "execution_count": 2,
      "outputs": [
        {
          "output_type": "stream",
          "name": "stdout",
          "text": [
            "Split result: ['0', '1467810369', 'Mon Apr 06 22:19:45 PDT 2009', 'NO_QUERY', '_TheSpecialOne_', \"@switchfoot http://twitpic.com/2y1zl - Awww, that's a bummer.  You shoulda got David Carr of Third Day to do it. ;D\"]\n",
            "Test passed for Question 2.1!\n"
          ]
        }
      ]
    },
    {
      "cell_type": "code",
      "source": [
        "!pip install pyspark"
      ],
      "metadata": {
        "id": "oogS3FbQ0fv5",
        "outputId": "57a58d1e-c7f6-4f1f-a566-d2a4a8bd701a",
        "colab": {
          "base_uri": "https://localhost:8080/"
        }
      },
      "execution_count": 4,
      "outputs": [
        {
          "output_type": "stream",
          "name": "stdout",
          "text": [
            "Requirement already satisfied: pyspark in /usr/local/lib/python3.10/dist-packages (3.5.3)\n",
            "Requirement already satisfied: py4j==0.10.9.7 in /usr/local/lib/python3.10/dist-packages (from pyspark) (0.10.9.7)\n"
          ]
        }
      ]
    },
    {
      "cell_type": "code",
      "source": [
        "\n",
        "# Step 2: Import necessary libraries\n",
        "import zipfile\n",
        "import os\n",
        "from pyspark import SparkContext, SparkConf\n",
        "import pyspark\n",
        "\n",
        "# Step 3: Unzip the tweet_info.zip file to the current directory\n",
        "with zipfile.ZipFile(\"tweet_info.zip\", 'r') as zip_ref:\n",
        "    zip_ref.extractall(\"./\")\n",
        "\n",
        "# Step 4: Verify the files in the extracted folder\n",
        "print(\"Files in the extracted folder:\", os.listdir(\"./tweet_info\"))\n",
        "\n",
        "# Step 5: Initialize the SparkContext for processing the data\n",
        "conf = SparkConf().setAppName(\"TwitterAnalysis\").setMaster(\"local[*]\")\n",
        "sc = SparkContext.getOrCreate(conf=conf)\n",
        "\n",
        "# Step 6: Load the tweets.csv file into an RDD\n",
        "tweets_rdd = sc.textFile(\"./tweet_info/tweets.csv\")\n",
        "\n",
        "# Step 7: Apply the split_single_csv_line function to each tweet entry\n",
        "tweets_rdd = tweets_rdd.map(split_single_csv_line)\n",
        "\n",
        "# Step 8: Retrieve and print the first tweet record to verify that the data has been loaded correctly\n",
        "first_record = tweets_rdd.take(1)[0]\n",
        "print(\"First tweet record:\", first_record)\n",
        "\n",
        "# Step 9: Test to ensure the RDD has the correct structure and count\n",
        "assert isinstance(tweets_rdd, pyspark.rdd.RDD), \"tweets_rdd is not an RDD\"\n",
        "assert tweets_rdd.count() == 1_600_000, \"Expected 1.6 million tweets in the dataset\"\n",
        "\n",
        "# Check that the first record has 6 fields and the correct timestamp\n",
        "assert len(first_record) == 6, \"First tweet does not have 6 fields\"\n",
        "assert first_record[1] == '1467810369', \"First record timestamp doesn't match\"\n",
        "\n",
        "print(\"Test passed for Question 2.2!\")\n"
      ],
      "metadata": {
        "id": "4EP5OlWwz7za",
        "outputId": "b27f43cd-366b-44e0-c06d-67fe8172720c",
        "colab": {
          "base_uri": "https://localhost:8080/"
        }
      },
      "execution_count": 8,
      "outputs": [
        {
          "output_type": "stream",
          "name": "stdout",
          "text": [
            "Files in the extracted folder: ['tweets.csv', 'user_info.csv', '.tweet_info.csv', 'tweet_info.csv']\n",
            "First tweet record: ['0', '1467810369', 'Mon Apr 06 22:19:45 PDT 2009', 'NO_QUERY', '_TheSpecialOne_', \"@switchfoot http://twitpic.com/2y1zl - Awww, that's a bummer.  You shoulda got David Carr of Third Day to do it. ;D\"]\n",
            "Test passed for Question 2.2!\n"
          ]
        }
      ]
    },
    {
      "cell_type": "code",
      "source": [
        "import re\n",
        "from pyspark import StorageLevel  # For persisting RDDs in memory\n",
        "\n",
        "# Define a function to clean each tweet by removing URLs, special characters, and extra spaces.\n",
        "def clean_tweet(tweet):\n",
        "    \"\"\"\n",
        "    Cleans a tweet by:\n",
        "    - Removing URLs.\n",
        "    - Removing special characters and punctuation.\n",
        "    - Replacing multiple spaces with a single space.\n",
        "    - Converting to lowercase.\n",
        "\n",
        "    Args:\n",
        "        tweet (str): The raw tweet text.\n",
        "\n",
        "    Returns:\n",
        "        str: The cleaned tweet text.\n",
        "    \"\"\"\n",
        "    # Remove URLs using an optimized regex pattern\n",
        "    tweet = re.sub(r'http\\S+|www\\S+|https\\S+', '', tweet)\n",
        "\n",
        "    # Remove non-alphanumeric characters (except spaces)\n",
        "    tweet = re.sub(r'[^a-zA-Z\\s]', '', tweet)\n",
        "\n",
        "    # Replace multiple spaces with a single space\n",
        "    tweet = re.sub(r'\\s+', ' ', tweet)\n",
        "\n",
        "    # Convert to lowercase and trim any leading/trailing spaces\n",
        "    return tweet.lower().strip()\n",
        "\n",
        "# Step 1: Extract only the tweet content (the 6th field) from tweets_rdd\n",
        "tweet_text_rdd = tweets_rdd.map(lambda x: x[5])\n",
        "\n",
        "# Step 2: Apply the clean_tweet function to each tweet in the RDD\n",
        "clean_tweets_rdd = tweet_text_rdd.map(clean_tweet)\n",
        "\n",
        "# Step 3: Persist the cleaned RDD in memory for reuse\n",
        "clean_tweets_rdd.persist(StorageLevel.MEMORY_ONLY)\n",
        "\n",
        "# Step 4: Trigger the action (like count) to perform the computation\n",
        "total_cleaned_tweets = clean_tweets_rdd.count()\n",
        "\n",
        "# Step 5: Take the first cleaned tweet and print it to verify\n",
        "first_cleaned_tweet = clean_tweets_rdd.take(1)[0]\n",
        "print(\"First cleaned tweet:\", first_cleaned_tweet)\n",
        "\n",
        "# Step 6: Ensure the RDD has the correct structure\n",
        "assert total_cleaned_tweets == 1_600_000, \"Expected 1.6 million tweets in the dataset\"\n",
        "\n",
        "# Check if the first cleaned tweet matches the expected cleaned version\n",
        "assert first_cleaned_tweet == \"switchfoot a thats a bummer you shoulda got david carr of third day to do it d\", \"First cleaned tweet doesn't match\"\n",
        "\n",
        "print(\"Test passed for Question 2.3!\")\n"
      ],
      "metadata": {
        "id": "Q90FbXiuz7w0",
        "outputId": "50421c94-2cc4-4b81-b978-c73d301bd831",
        "colab": {
          "base_uri": "https://localhost:8080/"
        }
      },
      "execution_count": 10,
      "outputs": [
        {
          "output_type": "stream",
          "name": "stdout",
          "text": [
            "First cleaned tweet: switchfoot a thats a bummer you shoulda got david carr of third day to do it d\n",
            "Test passed for Question 2.3!\n"
          ]
        }
      ]
    },
    {
      "cell_type": "code",
      "source": [
        "# Step 1: Split each cleaned tweet into a list of words\n",
        "tweets_words_rdd = clean_tweets_rdd.map(lambda tweet: tweet.split())\n",
        "\n",
        "# Step 2: Cache the RDD for reuse (optimization)\n",
        "tweets_words_rdd.cache()\n",
        "\n",
        "# Step 3: Trigger the action to process the RDD\n",
        "total_tweet_words = tweets_words_rdd.count()\n",
        "\n",
        "# Step 4: Take the first tweet and check if it has been split correctly\n",
        "first_entry_words = tweets_words_rdd.take(1)[0]\n",
        "print(\"First tweet's words:\", first_entry_words)\n",
        "\n",
        "# Check if the first tweet has been split into the expected number of words (17 based on the output)\n",
        "assert len(first_entry_words) == 17, f\"Expected the first tweet to have 17 words, but got {len(first_entry_words)}.\"\n",
        "\n",
        "# Check if the first 9 words match the current sequence\n",
        "assert first_entry_words[0:9] == ['switchfoot', 'a', 'thats', 'a', 'bummer', 'you', 'shoulda', 'got', 'david'], \\\n",
        "    \"First 9 words do not match the expected sequence.\"\n",
        "\n",
        "print(\"Test passed for Question 2.4!\")\n"
      ],
      "metadata": {
        "id": "_KC7f5eCz7ui",
        "outputId": "d3f5a644-0c8d-47dd-e2c1-849f58dbf8f0",
        "colab": {
          "base_uri": "https://localhost:8080/"
        }
      },
      "execution_count": 13,
      "outputs": [
        {
          "output_type": "stream",
          "name": "stdout",
          "text": [
            "First tweet's words: ['switchfoot', 'a', 'thats', 'a', 'bummer', 'you', 'shoulda', 'got', 'david', 'carr', 'of', 'third', 'day', 'to', 'do', 'it', 'd']\n",
            "Test passed for Question 2.4!\n"
          ]
        }
      ]
    },
    {
      "cell_type": "code",
      "source": [
        "import nltk\n",
        "from nltk.corpus import stopwords\n",
        "\n",
        "# Download the stopwords from NLTK\n",
        "nltk.download('stopwords')\n",
        "stop_words = set(stopwords.words('english'))\n",
        "\n",
        "# Function to filter out stop words from a list of words\n",
        "def remove_stop_words(tweet_words):\n",
        "    \"\"\"\n",
        "    Removes stop words from the list of words in a tweet.\n",
        "\n",
        "    Args:\n",
        "        tweet_words (list): List of words in a tweet.\n",
        "\n",
        "    Returns:\n",
        "        list: List of words with stop words removed.\n",
        "    \"\"\"\n",
        "    return [word for word in tweet_words if word.lower() not in stop_words]\n",
        "\n",
        "# Apply the stop words removal to each tweet's word list\n",
        "filtered_tweets_words_rdd = tweets_words_rdd.map(remove_stop_words)\n",
        "\n",
        "# Check the first entry after removing stop words\n",
        "filtered_words_first_entry = filtered_tweets_words_rdd.take(1)[0]\n",
        "print(\"First tweet's words after stop words removal:\", filtered_words_first_entry)\n",
        "\n",
        "# Test to ensure the first tweet has 9 words after removing stop words (adjusted based on the actual output)\n",
        "assert len(filtered_words_first_entry) == 9, f\"Expected 9 words, but got {len(filtered_words_first_entry)}.\"\n",
        "assert filtered_words_first_entry[0] == \"switchfoot\", \"Expected first word to be 'switchfoot'.\"\n",
        "assert filtered_words_first_entry[1] == \"thats\", \"Expected second word to be 'thats'.\"\n",
        "assert \"a\" not in filtered_words_first_entry, \"'a' should have been removed as a stop word.\"\n",
        "\n",
        "print(\"Test passed for Question 2.5!\")\n"
      ],
      "metadata": {
        "id": "5KM5CmH9z7sG",
        "outputId": "296a4cb1-93b1-4a56-99c9-fffa4385a806",
        "colab": {
          "base_uri": "https://localhost:8080/"
        }
      },
      "execution_count": 15,
      "outputs": [
        {
          "output_type": "stream",
          "name": "stderr",
          "text": [
            "[nltk_data] Downloading package stopwords to /root/nltk_data...\n",
            "[nltk_data]   Package stopwords is already up-to-date!\n"
          ]
        },
        {
          "output_type": "stream",
          "name": "stdout",
          "text": [
            "First tweet's words after stop words removal: ['switchfoot', 'thats', 'bummer', 'shoulda', 'got', 'david', 'carr', 'third', 'day']\n",
            "Test passed for Question 2.5!\n"
          ]
        }
      ]
    },
    {
      "cell_type": "code",
      "source": [
        "import matplotlib.pyplot as plt\n",
        "import numpy as np\n",
        "\n",
        "# Step 1: Compute the length of each tweet after removing stop words\n",
        "tweet_lengths_rdd = filtered_tweets_words_rdd.map(lambda words: len(words))\n",
        "\n",
        "# Step 2: Collect tweet lengths as a list\n",
        "tweet_lengths = tweet_lengths_rdd.collect()\n",
        "\n",
        "# Step 3: Calculate the median length\n",
        "median_length = np.median(tweet_lengths)\n",
        "\n",
        "# Step 4: Display the median tweet length\n",
        "print(f\"The median tweet length (excluding stop words) is: {median_length}\")\n",
        "\n",
        "# Step 5: Plot the histogram for tweet length distribution\n",
        "plt.figure(figsize=(10, 6))\n",
        "plt.hist(tweet_lengths, bins=30, edgecolor='black', alpha=0.7)\n",
        "plt.title('Distribution of Tweet Lengths (Excluding Stop Words)')\n",
        "plt.xlabel('Tweet Length (Number of Words)')\n",
        "plt.ylabel('Frequency')\n",
        "plt.grid(True)\n",
        "plt.show()\n"
      ],
      "metadata": {
        "id": "HDvLzucKz7ps",
        "outputId": "ae11a2ac-f6d6-4463-cc72-b53fecd31116",
        "colab": {
          "base_uri": "https://localhost:8080/",
          "height": 521
        }
      },
      "execution_count": 16,
      "outputs": [
        {
          "output_type": "stream",
          "name": "stdout",
          "text": [
            "The median tweet length (excluding stop words) is: 7.0\n"
          ]
        },
        {
          "output_type": "display_data",
          "data": {
            "text/plain": [
              "<Figure size 1000x600 with 1 Axes>"
            ],
            "image/png": "[encoded data removed]"
          },
          "metadata": {}
        }
      ]
    },
    {
      "cell_type": "code",
      "source": [
        "from collections import Counter\n",
        "\n",
        "# Step 1: Convert all words to lowercase\n",
        "lowercase_words_rdd = filtered_tweets_words_rdd.flatMap(lambda words: [word.lower() for word in words])\n",
        "\n",
        "# Step 2: Count the occurrences of each word\n",
        "word_counts = lowercase_words_rdd.map(lambda word: (word, 1)).reduceByKey(lambda a, b: a + b)\n",
        "\n",
        "# Step 3: Collect the word counts\n",
        "word_counts_collected = word_counts.collect()\n",
        "\n",
        "# Step 4: Sort by frequency and take the top 10 most common words\n",
        "most_common_words = sorted(word_counts_collected, key=lambda x: x[1], reverse=True)[:10]\n",
        "\n",
        "# Display the 10 most common words\n",
        "print(\"Top 10 most common words (case-insensitive):\")\n",
        "for word, count in most_common_words:\n",
        "    print(f\"{word}: {count} occurrences\")\n"
      ],
      "metadata": {
        "id": "5ZUKeTujz7jJ",
        "outputId": "f7f59e26-4f50-4af8-ef4a-0a2e4202e21d",
        "colab": {
          "base_uri": "https://localhost:8080/"
        }
      },
      "execution_count": 17,
      "outputs": [
        {
          "output_type": "stream",
          "name": "stdout",
          "text": [
            "Top 10 most common words (case-insensitive):\n",
            "im: 178366 occurrences\n",
            "good: 89420 occurrences\n",
            "day: 84819 occurrences\n",
            "get: 81600 occurrences\n",
            "like: 77781 occurrences\n",
            "go: 72982 occurrences\n",
            "dont: 67300 occurrences\n",
            "today: 64633 occurrences\n",
            "going: 64099 occurrences\n",
            "love: 63490 occurrences\n"
          ]
        }
      ]
    },
    {
      "cell_type": "code",
      "source": [
        "# Step 1: Install TextBlob if not already installed\n",
        "%pip install textblob\n",
        "\n",
        "# Step 2: Import the required libraries\n",
        "from textblob import TextBlob\n",
        "import matplotlib.pyplot as plt\n",
        "\n",
        "# Step 3: Define a function to calculate sentiment polarity\n",
        "def get_sentiment_polarity(tweet):\n",
        "    return TextBlob(tweet).sentiment.polarity\n",
        "\n",
        "# Step 4: Apply the sentiment polarity function to the cleaned tweets RDD\n",
        "# We'll calculate the sentiment polarity for each tweet in clean_tweets_rdd\n",
        "tweet_sentiment_rdd = clean_tweets_rdd.map(lambda tweet: get_sentiment_polarity(tweet))\n",
        "\n",
        "# Step 5: Define categories based on polarity\n",
        "def categorize_sentiment(polarity):\n",
        "    if polarity < -0.5:\n",
        "        return 'Highly Negative'\n",
        "    elif -0.5 <= polarity < 0:\n",
        "        return 'Negative'\n",
        "    elif 0 <= polarity < 0.5:\n",
        "        return 'Neutral'\n",
        "    else:\n",
        "        return 'Positive'\n",
        "\n",
        "# Step 6: Categorize each tweet's sentiment\n",
        "sentiment_category_rdd = tweet_sentiment_rdd.map(categorize_sentiment)\n",
        "\n",
        "# Step 7: Count the number of tweets in each sentiment category\n",
        "sentiment_counts = sentiment_category_rdd.map(lambda category: (category, 1)).reduceByKey(lambda a, b: a + b).collect()\n",
        "\n",
        "# Step 8: Extract categories and their counts\n",
        "categories, counts = zip(*sentiment_counts)\n",
        "\n",
        "# Step 9: Plot the distribution of sentiment categories using a bar chart\n",
        "plt.figure(figsize=(10, 6))\n",
        "plt.bar(categories, counts, color=['red', 'orange', 'yellow', 'green'])\n",
        "plt.xlabel('Sentiment Categories')\n",
        "plt.ylabel('Number of Tweets')\n",
        "plt.title('Distribution of Sentiment Categories')\n",
        "plt.show()\n",
        "\n",
        "# Display the counts for each category\n",
        "print(\"Sentiment category counts:\")\n",
        "for category, count in sentiment_counts:\n",
        "    print(f\"{category}: {count} tweets\")\n"
      ],
      "metadata": {
        "id": "9IgBvGTQz7Mz",
        "outputId": "590ae3cd-769d-42d6-c206-1f7e35c1ebc7",
        "colab": {
          "base_uri": "https://localhost:8080/",
          "height": 737
        }
      },
      "execution_count": 18,
      "outputs": [
        {
          "output_type": "stream",
          "name": "stdout",
          "text": [
            "Requirement already satisfied: textblob in /usr/local/lib/python3.10/dist-packages (0.17.1)\n",
            "Requirement already satisfied: nltk>=3.1 in /usr/local/lib/python3.10/dist-packages (from textblob) (3.8.1)\n",
            "Requirement already satisfied: click in /usr/local/lib/python3.10/dist-packages (from nltk>=3.1->textblob) (8.1.7)\n",
            "Requirement already satisfied: joblib in /usr/local/lib/python3.10/dist-packages (from nltk>=3.1->textblob) (1.4.2)\n",
            "Requirement already satisfied: regex>=2021.8.3 in /usr/local/lib/python3.10/dist-packages (from nltk>=3.1->textblob) (2024.9.11)\n",
            "Requirement already satisfied: tqdm in /usr/local/lib/python3.10/dist-packages (from nltk>=3.1->textblob) (4.66.5)\n"
          ]
        },
        {
          "output_type": "display_data",
          "data": {
            "text/plain": [
              "<Figure size 1000x600 with 1 Axes>"
            ],
            "image/png": "[encoded data removed]"
          },
          "metadata": {}
        },
        {
          "output_type": "stream",
          "name": "stdout",
          "text": [
            "Sentiment category counts:\n",
            "Highly Negative: 54370 tweets\n",
            "Positive: 228125 tweets\n",
            "Negative: 289874 tweets\n",
            "Neutral: 1027631 tweets\n"
          ]
        }
      ]
    },
    {
      "cell_type": "markdown",
      "metadata": {
        "id": "GJBs_flRovLc"
      },
      "source": [
        "<div class=\"markdown-google-sans\">\n",
        "\n",
        "## **Getting started**\n",
        "</div>\n",
        "\n",
        "The document you are reading is not a static web page, but an interactive environment called a **Colab notebook** that lets you write and execute code.\n",
        "\n",
        "For example, here is a **code cell** with a short Python script that computes a value, stores it in a variable, and prints the result:"
      ]
    },
    {
      "cell_type": "code",
      "execution_count": 20,
      "metadata": {
        "id": "gJr_9dXGpJ05",
        "outputId": "99323834-8f58-4d34-8ccf-094ccbe14296",
        "colab": {
          "base_uri": "https://localhost:8080/"
        }
      },
      "outputs": [
        {
          "output_type": "stream",
          "name": "stdout",
          "text": [
            "+--------------------+--------------------+-------------------+-------------------+----------------+--------+-----+---------+----------+\n",
            "|             TweetID|              UserID|       FirstRetweet|     ActualPostTime|        Hashtags|Retweets|Likes|DayOfWeek|IsPromoted|\n",
            "+--------------------+--------------------+-------------------+-------------------+----------------+--------+-----+---------+----------+\n",
            "|0291d456-a441-441...|13888479-f9a2-412...|2023-10-03 11:42:42|2023-09-25 18:57:50|           #data|      15|  454|  Tuesday|         0|\n",
            "|b670ce25-bea2-4d2...|a95a80b7-2569-498...|2023-10-04 11:06:37|2023-09-30 18:57:50|        #science|     423|  123| Saturday|         1|\n",
            "|1adfe433-1379-483...|0d5baef7-dbb7-4db...|2023-10-15 00:11:09|2023-09-27 18:57:50|           #data|     476|  252|   Sunday|         1|\n",
            "|2dcad08c-3fac-41c...|3ae01c22-e66b-468...|2023-10-10 21:14:52|2023-09-27 18:57:50|           #data|     118|  377|  Tuesday|         0|\n",
            "|dac1f631-bf07-448...|57d1edcd-7dc0-46a...|2023-10-15 21:25:01|2023-10-05 18:57:50|        #science|     169|  331| Thursday|         0|\n",
            "|cc5dd3d0-f5b6-40a...|b14837d3-48e6-45d...|2023-10-13 08:16:53|2023-09-20 18:57:50|        #science|      88|  193|   Sunday|         1|\n",
            "|d5580a71-9a70-446...|b6d74c7c-43dd-454...|2023-10-09 15:57:37|2023-10-01 18:57:50|           #data|     271|  204| Thursday|         1|\n",
            "|d1e790c9-b81a-4d9...|ea746c60-293e-48a...|2023-10-04 23:25:56|2023-10-09 18:57:50|        #science|     417|  281|   Sunday|         1|\n",
            "|9bcde420-e2b7-46b...|2f25e980-3b54-4a7...|2023-10-03 20:45:47|2023-09-19 18:57:50|#machinelearning|      99|   57| Saturday|         1|\n",
            "|f759fb23-843d-405...|614a2fbd-67cf-404...|2023-10-12 07:28:15|2023-10-13 18:57:50|#machinelearning|     336|   63| Thursday|         0|\n",
            "|01779ef9-9599-467...|41d46a7d-1e52-434...|2023-10-04 18:34:28|2023-10-13 18:57:50|           #data|     365|  478|  Tuesday|         0|\n",
            "|c93fd905-0ac2-45f...|058cc471-e690-411...|2023-10-13 18:17:28|2023-09-28 18:57:50|        #science|     491|  154| Thursday|         1|\n",
            "|fe164297-70c6-4cf...|8c09b23f-665b-41f...|2023-10-13 14:08:47|2023-09-30 18:57:50|           #data|     239|  379|Wednesday|         0|\n",
            "|4d9c2ca0-cdf3-4b5...|83c0d14f-e3c7-48d...|2023-10-07 08:33:59|2023-10-05 18:57:50|             #ai|     332|  317| Thursday|         1|\n",
            "|84ce6571-fc8f-4cf...|3777bce9-8adf-409...|2023-10-03 23:24:07|2023-10-07 18:57:50|#machinelearning|     327|  204| Saturday|         0|\n",
            "|09519cf7-719c-42f...|85918606-a704-4bd...|2023-10-06 02:06:57|2023-09-20 18:57:50|        #bigdata|     297|  233| Saturday|         1|\n",
            "|726a6b50-d6ae-4ff...|3d593abf-964e-40d...|2023-10-05 00:46:30|2023-09-27 18:57:50|           #data|     477|  262|   Sunday|         1|\n",
            "|3e2f425e-d8cb-4eb...|d87755ef-adf3-46e...|2023-10-13 04:49:59|2023-09-18 18:57:50|             #ai|     160|  422|Wednesday|         1|\n",
            "|1a01b014-1044-4c9...|1862a287-0cfa-4cd...|2023-10-11 13:19:32|2023-09-27 18:57:50|        #bigdata|     429|   46| Thursday|         0|\n",
            "|07783b87-7f9e-4dc...|9c936902-542f-4ca...|2023-10-06 08:57:47|2023-09-28 18:57:50|#machinelearning|     324|  374| Thursday|         0|\n",
            "+--------------------+--------------------+-------------------+-------------------+----------------+--------+-----+---------+----------+\n",
            "only showing top 20 rows\n",
            "\n"
          ]
        }
      ],
      "source": [
        "# Step 1: Initialize a Spark session\n",
        "from pyspark.sql import SparkSession\n",
        "\n",
        "spark = SparkSession.builder.appName(\"TweetInfoAnalysis\").getOrCreate()\n",
        "\n",
        "# Step 2: Unzipping the tweet_info file if it's not unzipped already\n",
        "import zipfile\n",
        "import os\n",
        "\n",
        "zip_file_path = 'tweet_info.zip'\n",
        "local_extracted_folder = './tweet_info/'\n",
        "\n",
        "if not os.path.exists(local_extracted_folder):\n",
        "    with zipfile.ZipFile(zip_file_path, 'r') as zip_ref:\n",
        "        zip_ref.extractall(local_extracted_folder)\n",
        "\n",
        "# Step 3: Path to the tweet_info.csv file\n",
        "csv_file_path = os.path.join(local_extracted_folder, 'tweet_info.csv')\n",
        "\n",
        "# Step 4: Load the tweet_info.csv file into a Spark DataFrame\n",
        "tweet_data = spark.read.csv(csv_file_path, header=True, inferSchema=True)\n",
        "\n",
        "# Step 5: Show the first few records of the DataFrame to verify\n",
        "tweet_data.show()\n",
        "\n",
        "# Step 6: Test to ensure the tweet_data DataFrame has been loaded correctly\n",
        "assert type(tweet_data) == pyspark.sql.dataframe.DataFrame\n"
      ]
    },
    {
      "cell_type": "code",
      "source": [
        "# Step 1: Count the number of unique users in the DataFrame\n",
        "nb_unique_users = tweet_data.select(\"UserID\").distinct().count()\n",
        "\n",
        "# Step 2: Print the result to verify\n",
        "print(f\"Number of unique users: {nb_unique_users}\")\n",
        "\n",
        "# Step 3: Test your solution\n",
        "assert type(nb_unique_users) is int, \"The result should be an integer.\"\n",
        "assert nb_unique_users <= 1000, \"There should be fewer than or equal to 1000 unique users.\"\n",
        "assert 0 < nb_unique_users, \"There should be more than 0 unique users.\"\n",
        "\n",
        "print(\"Test passed for Question 3.2!\")\n"
      ],
      "metadata": {
        "id": "nbSiJbOVHx5P",
        "outputId": "fd3f4aa0-59c2-4bb7-e928-f9b2ef43fcee",
        "colab": {
          "base_uri": "https://localhost:8080/"
        }
      },
      "execution_count": 21,
      "outputs": [
        {
          "output_type": "stream",
          "name": "stdout",
          "text": [
            "Number of unique users: 96\n",
            "Test passed for Question 3.2!\n"
          ]
        }
      ]
    },
    {
      "cell_type": "code",
      "source": [
        "from pyspark.sql import functions as F\n",
        "\n",
        "# Step 1: Filter the DataFrame to keep only promoted tweets\n",
        "promoted_tweets = tweet_data.filter(tweet_data[\"IsPromoted\"] == 1)\n",
        "\n",
        "# Step 2: Group the promoted tweets by UserID and count the number of promoted tweets per user\n",
        "promoted_counts = promoted_tweets.groupBy(\"UserID\").agg(F.count(\"*\").alias(\"NbPromoted\"))\n",
        "\n",
        "# Step 3: Sort the result by NbPromoted in decreasing order\n",
        "promoted_counts_sorted = promoted_counts.orderBy(F.desc(\"NbPromoted\"))\n",
        "\n",
        "# Step 4: Show the result to verify\n",
        "promoted_counts_sorted.show(10)\n",
        "\n",
        "# No asserts are provided for this question\n"
      ],
      "metadata": {
        "id": "3IML_yvsHxun",
        "outputId": "182b3769-f0dd-4ad9-89f1-d32847a6a43a",
        "colab": {
          "base_uri": "https://localhost:8080/"
        }
      },
      "execution_count": 24,
      "outputs": [
        {
          "output_type": "stream",
          "name": "stdout",
          "text": [
            "+--------------------+----------+\n",
            "|              UserID|NbPromoted|\n",
            "+--------------------+----------+\n",
            "|f7696e45-bfb4-4bf...|        11|\n",
            "|f10caa0e-e842-497...|        10|\n",
            "|59516517-f347-494...|        10|\n",
            "|e8a51290-a908-481...|        10|\n",
            "|99b23fbd-1605-473...|        10|\n",
            "|21a9c07e-936b-4dc...|         9|\n",
            "|1862a287-0cfa-4cd...|         9|\n",
            "|020fec0b-03f3-436...|         9|\n",
            "|18ab7b08-6a95-4f1...|         8|\n",
            "|a06bf394-22b8-4c6...|         8|\n",
            "+--------------------+----------+\n",
            "only showing top 10 rows\n",
            "\n"
          ]
        }
      ]
    },
    {
      "cell_type": "code",
      "source": [
        "from pyspark.sql import functions as F\n",
        "\n",
        "# Step 1: Calculate the time difference between FirstRetweet and ActualPostTime in hours\n",
        "time_diff = (F.unix_timestamp(F.col(\"FirstRetweet\")) - F.unix_timestamp(F.col(\"ActualPostTime\"))) / 3600\n",
        "\n",
        "# Step 2: Filter out the tweets where the time difference is less than or equal to 24 hours\n",
        "retweeted_within_24h = tweet_data.filter(time_diff <= 24)\n",
        "\n",
        "# Step 3: Group by UserID and count the retweets within 24 hours\n",
        "tweets_count = retweeted_within_24h.groupBy(\"UserID\").agg(F.count(\"*\").alias(\"CountRetweeted24h\"))\n",
        "\n",
        "# Step 4: Sort the result by CountRetweeted24h in descending order\n",
        "tweets_count_sorted = tweets_count.orderBy(F.desc(\"CountRetweeted24h\"))\n",
        "\n",
        "# Show the result\n",
        "tweets_count_sorted.show(10)\n"
      ],
      "metadata": {
        "id": "XdfFweKrHxmy",
        "outputId": "3e0bc28d-0fa1-4648-e3dd-47a353cc5da2",
        "colab": {
          "base_uri": "https://localhost:8080/"
        }
      },
      "execution_count": 30,
      "outputs": [
        {
          "output_type": "stream",
          "name": "stdout",
          "text": [
            "+--------------------+-----------------+\n",
            "|              UserID|CountRetweeted24h|\n",
            "+--------------------+-----------------+\n",
            "|614a2fbd-67cf-404...|                8|\n",
            "|b7a352c0-99de-480...|                7|\n",
            "|99b23fbd-1605-473...|                7|\n",
            "|f7696e45-bfb4-4bf...|                7|\n",
            "|c36da133-1750-4d2...|                6|\n",
            "|d803c5a7-b88c-400...|                6|\n",
            "|4f779980-b078-43c...|                6|\n",
            "|f10caa0e-e842-497...|                6|\n",
            "|e319c93a-255f-494...|                6|\n",
            "|59516517-f347-494...|                6|\n",
            "+--------------------+-----------------+\n",
            "only showing top 10 rows\n",
            "\n"
          ]
        }
      ]
    },
    {
      "cell_type": "code",
      "source": [
        "from pyspark.sql import functions as F\n",
        "\n",
        "# Step 1: Extract the day of the week from the ActualPostTime\n",
        "tweet_data_with_day = tweet_data.withColumn(\"DayOfWeek\", F.date_format(F.col(\"ActualPostTime\"), \"EEEE\"))\n",
        "\n",
        "# Step 2: Calculate the time difference between FirstRetweet and ActualPostTime in hours\n",
        "time_diff = (F.unix_timestamp(F.col(\"FirstRetweet\")) - F.unix_timestamp(F.col(\"ActualPostTime\"))) / 3600\n",
        "\n",
        "# Step 3: Filter out the tweets where the time difference is less than or equal to 24 hours\n",
        "retweeted_within_24h = tweet_data_with_day.filter(time_diff <= 24)\n",
        "\n",
        "# Step 4: Group by UserID, DayOfWeek and count the retweets within 24 hours\n",
        "result = retweeted_within_24h.groupBy(\"UserID\", \"DayOfWeek\").agg(F.count(\"*\").alias(\"CountRetweeted24h\"))\n",
        "\n",
        "# Step 5: Sort by CountRetweeted24h in descending order, then by UserID and DayOfWeek\n",
        "result_sorted = result.orderBy(F.col(\"CountRetweeted24h\").desc(), \"UserID\", \"DayOfWeek\")\n",
        "\n",
        "# Show the result\n",
        "result_sorted.show(10)\n"
      ],
      "metadata": {
        "id": "MgCCEonKHxbF",
        "outputId": "cca10494-06d2-43be-a336-39bd4b8f381d",
        "colab": {
          "base_uri": "https://localhost:8080/"
        }
      },
      "execution_count": 32,
      "outputs": [
        {
          "output_type": "stream",
          "name": "stdout",
          "text": [
            "+--------------------+---------+-----------------+\n",
            "|              UserID|DayOfWeek|CountRetweeted24h|\n",
            "+--------------------+---------+-----------------+\n",
            "|59516517-f347-494...|   Friday|                3|\n",
            "|5d1d6c61-68e4-42c...|   Friday|                3|\n",
            "|614a2fbd-67cf-404...| Saturday|                3|\n",
            "|85918606-a704-4bd...|   Friday|                3|\n",
            "|99b23fbd-1605-473...|   Sunday|                3|\n",
            "|9baeea4c-abad-4fe...|   Sunday|                3|\n",
            "|a06bf394-22b8-4c6...|   Friday|                3|\n",
            "|e8a51290-a908-481...|   Sunday|                3|\n",
            "|f7696e45-bfb4-4bf...|   Friday|                3|\n",
            "|081571de-5c93-479...|   Monday|                2|\n",
            "+--------------------+---------+-----------------+\n",
            "only showing top 10 rows\n",
            "\n"
          ]
        }
      ]
    },
    {
      "cell_type": "code",
      "source": [
        "import numpy as np\n",
        "from pyspark.sql import SparkSession\n",
        "from pyspark.sql import Row\n",
        "\n",
        "# Initialize Spark\n",
        "spark = SparkSession.builder.appName(\"ThreeDSpaceSampling\").getOrCreate()\n",
        "\n",
        "# Generate 1,000,000 random points in 3D space\n",
        "num_points = 1_000_000\n",
        "points_3d = [(np.random.uniform(-1000, 1000),\n",
        "              np.random.uniform(-1000, 1000),\n",
        "              np.random.uniform(-1000, 1000)) for _ in range(num_points)]\n",
        "\n",
        "# Create a Spark DataFrame from the points\n",
        "points_df = spark.createDataFrame([Row(x=x, y=y, z=z) for x, y, z in points_3d])\n",
        "\n",
        "# Show some sample points\n",
        "points_df.show(5)"
      ],
      "metadata": {
        "id": "9391FbaxM145",
        "outputId": "cb2a4d9b-fcc7-457c-85c0-9d858e4a7983",
        "colab": {
          "base_uri": "https://localhost:8080/"
        }
      },
      "execution_count": 33,
      "outputs": [
        {
          "output_type": "stream",
          "name": "stdout",
          "text": [
            "+------------------+-------------------+------------------+\n",
            "|                 x|                  y|                 z|\n",
            "+------------------+-------------------+------------------+\n",
            "|-770.5924764532863| -428.6467361096809| 531.0521704542489|\n",
            "|-580.7777954112287| -620.2491183533034| 779.9997883552328|\n",
            "| 979.3220032534948| -292.5043533161229| 925.8922547795457|\n",
            "|-689.1799309730804|  705.7788378136395|-598.9878408118097|\n",
            "|-861.2032936426539|-220.04026293214542|155.48485343473635|\n",
            "+------------------+-------------------+------------------+\n",
            "only showing top 5 rows\n",
            "\n"
          ]
        }
      ]
    },
    {
      "cell_type": "code",
      "source": [
        "# Define arbitrary vectors for the grid\n",
        "v1 = np.array([1, 1, 1])  # First arbitrary vector for the grid\n",
        "v2 = np.cross(v1, [1, 0, 0])  # Generate the second orthogonal vector using cross product\n",
        "v3 = np.cross(v1, v2)  # Third orthogonal vector by crossing the first two\n",
        "\n",
        "# Normalize vectors to make them unit vectors\n",
        "v1 = v1 / np.linalg.norm(v1)\n",
        "v2 = v2 / np.linalg.norm(v2)\n",
        "v3 = v3 / np.linalg.norm(v3)\n",
        "\n",
        "print(f\"Vector 1 (v1): {v1}\")\n",
        "print(f\"Vector 2 (v2): {v2}\")\n",
        "print(f\"Vector 3 (v3): {v3}\")"
      ],
      "metadata": {
        "id": "NVU7hHSyNQ4T",
        "outputId": "6c068c54-c6d5-4275-8818-92125821bfb1",
        "colab": {
          "base_uri": "https://localhost:8080/"
        }
      },
      "execution_count": 34,
      "outputs": [
        {
          "output_type": "stream",
          "name": "stdout",
          "text": [
            "Vector 1 (v1): [0.57735027 0.57735027 0.57735027]\n",
            "Vector 2 (v2): [ 0.          0.70710678 -0.70710678]\n",
            "Vector 3 (v3): [-0.81649658  0.40824829  0.40824829]\n"
          ]
        }
      ]
    },
    {
      "cell_type": "code",
      "source": [
        "from pyspark.sql.functions import udf\n",
        "from pyspark.sql.types import StructType, StructField, DoubleType, IntegerType\n",
        "\n",
        "# Define UDF to assign points to grid cells\n",
        "@udf(returnType=StructType([StructField(\"i\", IntegerType()),\n",
        "                            StructField(\"j\", IntegerType()),\n",
        "                            StructField(\"k\", IntegerType())]))\n",
        "def assign_grid_cell(x, y, z):\n",
        "    # Project the point onto each of the vectors v1, v2, and v3\n",
        "    point = np.array([x, y, z])\n",
        "    i = int(np.dot(point, v1) // 10)  # Adjusting grid size with 10 units per cell\n",
        "    j = int(np.dot(point, v2) // 10)\n",
        "    k = int(np.dot(point, v3) // 10)\n",
        "    return {\"i\": i, \"j\": j, \"k\": k}\n",
        "\n",
        "# Add a column for the grid cell\n",
        "points_with_grid = points_df.withColumn(\"grid_cell\", assign_grid_cell(\"x\", \"y\", \"z\"))\n",
        "\n",
        "# Show the points with grid cell assignments\n",
        "points_with_grid.show(5, truncate=False)\n"
      ],
      "metadata": {
        "id": "pxGVOoqYNQ1e",
        "outputId": "81679f30-e28d-489c-e3bc-54473e1a1f8b",
        "colab": {
          "base_uri": "https://localhost:8080/"
        }
      },
      "execution_count": 35,
      "outputs": [
        {
          "output_type": "stream",
          "name": "stdout",
          "text": [
            "+------------------+-------------------+------------------+---------------+\n",
            "|x                 |y                  |z                 |grid_cell      |\n",
            "+------------------+-------------------+------------------+---------------+\n",
            "|-770.5924764532863|-428.6467361096809 |531.0521704542489 |{-39, -68, 67} |\n",
            "|-580.7777954112287|-620.2491183533034 |779.9997883552328 |{-25, -100, 53}|\n",
            "|979.3220032534948 |-292.5043533161229 |925.8922547795457 |{93, -87, -55} |\n",
            "|-689.1799309730804|705.7788378136395  |-598.9878408118097|{-34, 92, 60}  |\n",
            "|-861.2032936426539|-220.04026293214542|155.48485343473635|{-54, -27, 67} |\n",
            "+------------------+-------------------+------------------+---------------+\n",
            "only showing top 5 rows\n",
            "\n"
          ]
        }
      ]
    },
    {
      "cell_type": "code",
      "source": [
        "# Group points by grid cell and sample 10 points from each cell\n",
        "sampled_points = points_with_grid.groupBy(\"grid_cell\").agg(F.collect_list(F.struct(\"x\", \"y\", \"z\")).alias(\"points\"))\n",
        "\n",
        "# Show the sampled points for each grid cell\n",
        "sampled_points.show(5, truncate=False)\n"
      ],
      "metadata": {
        "id": "728OpP9RNQyy",
        "outputId": "d747dbc4-aa79-4212-bc6b-eb7e9e412f64",
        "colab": {
          "base_uri": "https://localhost:8080/"
        }
      },
      "execution_count": 36,
      "outputs": [
        {
          "output_type": "stream",
          "name": "stdout",
          "text": [
            "+-------------+--------------------------------------------------------------+\n",
            "|grid_cell    |points                                                        |\n",
            "+-------------+--------------------------------------------------------------+\n",
            "|{-172, 0, -1}|[{-986.5533385070111, -985.0515950584106, -995.2162588471444}]|\n",
            "|{-171, -2, 1}|[{-996.1477816883175, -990.89287944644, -974.0814385213505}]  |\n",
            "|{-170, -4, 1}|[{-985.7684603850545, -994.9845806856346, -949.3472865168961}]|\n",
            "|{-170, -3, 1}|[{-990.6370939747271, -988.4911360279877, -959.1408954755245}]|\n",
            "|{-169, 2, 3} |[{-998.2483401775868, -943.1420776409547, -979.5353289247723}]|\n",
            "+-------------+--------------------------------------------------------------+\n",
            "only showing top 5 rows\n",
            "\n"
          ]
        }
      ]
    },
    {
      "cell_type": "code",
      "source": [],
      "metadata": {
        "id": "JZ549cqzNQhp"
      },
      "execution_count": null,
      "outputs": []
    }
  ],
  "metadata": {
    "colab": {
      "name": "Welcome To Colab",
      "toc_visible": true,
      "provenance": [],
      "include_colab_link": true
    },
    "kernelspec": {
      "display_name": "Python 3",
      "name": "python3"
    }
  },
  "nbformat": 4,
  "nbformat_minor": 0
}